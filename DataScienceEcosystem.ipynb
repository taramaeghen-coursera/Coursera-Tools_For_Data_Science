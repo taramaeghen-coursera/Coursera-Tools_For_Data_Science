{
 "cells": [
  {
   "cell_type": "markdown",
   "id": "9fe0d48e-c04b-4a78-8ee3-c5a53400f25d",
   "metadata": {},
   "source": [
    "# Data Science Tools and Ecosystem"
   ]
  },
  {
   "cell_type": "markdown",
   "id": "1bca498b-3726-4236-ad09-1e35f55a18a0",
   "metadata": {},
   "source": [
    "#### Data Science Tools and Ecosystems are summarized in this notebook."
   ]
  },
  {
   "cell_type": "markdown",
   "id": "7bcf7d2d-44fe-4fe3-a0c6-265584087844",
   "metadata": {},
   "source": [
    "**Objectives:**\n",
    "- Create Headings in Markdown cells\n",
    "- Create Ordered and Unordered Lists in Markdown cells\n",
    "- Create Tables in Markdown cells\n",
    "- Write Comments and Code in Code cells\n",
    "- Insert cells\n"
   ]
  },
  {
   "cell_type": "markdown",
   "id": "b2146ee3-0a38-40df-8664-3ec19d3695c3",
   "metadata": {},
   "source": [
    "###### Some of the popular languages that Data Scientists use are:\n",
    "1. Python\n",
    "2. R\n",
    "3. SQL\n",
    "4. Julia\n",
    "5. Scala\n"
   ]
  },
  {
   "cell_type": "markdown",
   "id": "57aa9e86-ef01-4d07-9b74-a3e601615256",
   "metadata": {},
   "source": [
    "###### Some of the commonly used libraries used by Data Scientists include:\n",
    "1. Pandas\n",
    "2. NumPy\n",
    "3. Matplotlib\n",
    "4. Seaborn\n",
    "5. Scikit-learn\n",
    "6. Keras\n",
    "7. TensorFlow\n",
    "8. PyTorch\n"
   ]
  },
  {
   "cell_type": "markdown",
   "id": "5b6ab016-5a45-43c7-886a-640bc2ef9c55",
   "metadata": {},
   "source": [
    "| Data Science Tools |\n",
    "| ------------------ |\n",
    "| Jupyter Notebook |\n",
    "| Visual Studio Code |\n",
    "| RStudio |\n"
   ]
  },
  {
   "cell_type": "markdown",
   "id": "a4aabe5c-88b0-4936-b42e-db2c998834c0",
   "metadata": {},
   "source": [
    "### Below are a few examples of evaluating arithmetic expressions in Python."
   ]
  },
  {
   "cell_type": "code",
   "execution_count": 1,
   "id": "2e66b736-7f53-4261-94bc-38d5b1e94cfb",
   "metadata": {},
   "outputs": [
    {
     "data": {
      "text/plain": [
       "17"
      ]
     },
     "execution_count": 1,
     "metadata": {},
     "output_type": "execute_result"
    }
   ],
   "source": [
    "# This is a simple arithmetic expression to multiply then add integers.\n",
    "\n",
    "(3 * 4) + 5\n"
   ]
  },
  {
   "cell_type": "code",
   "execution_count": 2,
   "id": "ce9c261a-97d0-4c2a-a3e4-ce00b35dbdc8",
   "metadata": {},
   "outputs": [
    {
     "data": {
      "text/plain": [
       "3.3333333333333335"
      ]
     },
     "execution_count": 2,
     "metadata": {},
     "output_type": "execute_result"
    }
   ],
   "source": [
    "# This will convert 200 minutes to hours by dividing by 60.\n",
    "\n",
    "200 / 60\n"
   ]
  },
  {
   "cell_type": "markdown",
   "id": "8ad80793-6fbe-4317-bb50-576ee7f0d065",
   "metadata": {},
   "source": [
    "## Author\n",
    "Tara Rodriguez\n"
   ]
  },
  {
   "cell_type": "code",
   "execution_count": null,
   "id": "ff60339f-a521-4450-bcf4-bd69394f98fc",
   "metadata": {},
   "outputs": [],
   "source": []
  }
 ],
 "metadata": {
  "kernelspec": {
   "display_name": "Python 3 (ipykernel)",
   "language": "python",
   "name": "python3"
  },
  "language_info": {
   "codemirror_mode": {
    "name": "ipython",
    "version": 3
   },
   "file_extension": ".py",
   "mimetype": "text/x-python",
   "name": "python",
   "nbconvert_exporter": "python",
   "pygments_lexer": "ipython3",
   "version": "3.12.8"
  }
 },
 "nbformat": 4,
 "nbformat_minor": 5
}
